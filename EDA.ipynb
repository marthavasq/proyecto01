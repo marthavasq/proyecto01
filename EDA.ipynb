{
 "cells": [
  {
   "cell_type": "code",
   "execution_count": null,
   "metadata": {},
   "outputs": [],
   "source": []
  },
  {
   "cell_type": "code",
   "execution_count": 19,
   "metadata": {},
   "outputs": [],
   "source": [
    "import pandas as pd \n",
    "df_funciones = pd.read_parquet(\"df_funciones.parquet\")"
   ]
  },
  {
   "cell_type": "markdown",
   "metadata": {},
   "source": [
    "Para el siguiente EDA, se toma el dataset modificado de \"movies_dataset\" al cual llamamos \"df_funciones\" donde previamente se realizaron las transformaciones solicitadas \n",
    "en la \"propuesta de trabajo\"."
   ]
  },
  {
   "cell_type": "code",
   "execution_count": null,
   "metadata": {},
   "outputs": [],
   "source": [
    "#utilizamos .head() y .info() para ver la informacion general del dataset, como numero de filas y columnas, tipos de datos y peso de memoria. \n",
    "print(df_funciones.head())\n",
    "print(df_funciones.info())\n",
    "\n"
   ]
  },
  {
   "cell_type": "markdown",
   "metadata": {},
   "source": [
    "Debido a la limpieza propuesta anteriormente, en este EDA no realizaremos desanidaciones, revision de valores nulos, ajustes en formato de fecha y eliminacion\n",
    "de columnas no necesarias ya que durante el proceso de ETL fueron ajustadas.\n",
    "\n"
   ]
  },
  {
   "cell_type": "code",
   "execution_count": null,
   "metadata": {},
   "outputs": [],
   "source": []
  },
  {
   "cell_type": "code",
   "execution_count": null,
   "metadata": {},
   "outputs": [],
   "source": []
  }
 ],
 "metadata": {
  "kernelspec": {
   "display_name": "entornov_venv",
   "language": "python",
   "name": "python3"
  },
  "language_info": {
   "codemirror_mode": {
    "name": "ipython",
    "version": 3
   },
   "file_extension": ".py",
   "mimetype": "text/x-python",
   "name": "python",
   "nbconvert_exporter": "python",
   "pygments_lexer": "ipython3",
   "version": "3.12.6"
  }
 },
 "nbformat": 4,
 "nbformat_minor": 2
}
