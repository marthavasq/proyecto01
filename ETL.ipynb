{
 "cells": [
  {
   "cell_type": "markdown",
   "metadata": {},
   "source": [
    "Cargar archivo movies.CSV a dataframe, Ver las columnas del DataFrame, Verificar y eliminar valores nulos"
   ]
  },
  {
   "cell_type": "code",
   "execution_count": null,
   "metadata": {},
   "outputs": [],
   "source": [
    "import pandas as pd\n",
    "import ast\n",
    "\n",
    "dfMovies = pd.read_csv(r'C:\\Users\\pc\\Downloads\\movies_dataset.csv')\n",
    "\n",
    "print(dfMovies.info())\n",
    "print(dfMovies.columns)            \n",
    "print(dfMovies.isnull().sum())\n",
    "dfMovies.dropna(inplace=True)"
   ]
  },
  {
   "cell_type": "markdown",
   "metadata": {},
   "source": [
    "Preprocesamiento de datos: tratamiento de datos antes de realizar la desanidacion. Se realiza una funcion que crea una copia del Df original para no afectarlo, posteriormente itera sobre cada columna del dataFrame verificando si la columna es de tipo objeto (cadenas) para en ese caso convertirlas a listas o diccionarios. "
   ]
  },
  {
   "cell_type": "code",
   "execution_count": 4,
   "metadata": {},
   "outputs": [
    {
     "name": "stdout",
     "output_type": "stream",
     "text": [
      "Error al convertir la columna 'homepage'. Las cadenas no tienen el formato correcto.\n",
      "Error al convertir la columna 'imdb_id'. Las cadenas no tienen el formato correcto.\n",
      "Error al convertir la columna 'original_language'. Las cadenas no tienen el formato correcto.\n",
      "Error al convertir la columna 'original_title'. Las cadenas no tienen el formato correcto.\n",
      "Error al convertir la columna 'overview'. Las cadenas no tienen el formato correcto.\n",
      "Error al convertir la columna 'popularity'. Las cadenas no tienen el formato correcto.\n",
      "Error al convertir la columna 'poster_path'. Las cadenas no tienen el formato correcto.\n",
      "Error al convertir la columna 'release_date'. Las cadenas no tienen el formato correcto.\n",
      "Error al convertir la columna 'status'. Las cadenas no tienen el formato correcto.\n",
      "Error al convertir la columna 'tagline'. Las cadenas no tienen el formato correcto.\n",
      "Error al convertir la columna 'title'. Las cadenas no tienen el formato correcto.\n",
      "Error al convertir la columna 'video'. Las cadenas no tienen el formato correcto.\n",
      "       adult                              belongs_to_collection     budget  \\\n",
      "9      False  {'id': 645, 'name': 'James Bond Collection', '...   58000000   \n",
      "68     False  {'id': 43563, 'name': 'Friday Collection', 'po...    3500000   \n",
      "69     False  {'id': 10924, 'name': 'From Dusk Till Dawn Col...   19000000   \n",
      "153    False  {'id': 439053, 'name': 'Brooklyn Cigar Store C...    2000000   \n",
      "178    False  {'id': 286162, 'name': 'Power Rangers Collecti...   15000000   \n",
      "...      ...                                                ...        ...   \n",
      "44274  False  {'id': 173710, 'name': 'Planet of the Apes (Re...  152000000   \n",
      "44674  False  {'id': 476961, 'name': 'Goon Collection', 'pos...          0   \n",
      "44821  False  {'id': 34055, 'name': 'Pokémon Collection', 'p...   16000000   \n",
      "44842  False  {'id': 8650, 'name': 'Transformers Collection'...  260000000   \n",
      "45029  False  {'id': 417491, 'name': 'Bon Cop Bad Cop Collec...          0   \n",
      "\n",
      "                                                  genres  \\\n",
      "9      [{'id': 12, 'name': 'Adventure'}, {'id': 28, '...   \n",
      "68                        [{'id': 35, 'name': 'Comedy'}]   \n",
      "69     [{'id': 27, 'name': 'Horror'}, {'id': 28, 'nam...   \n",
      "153                       [{'id': 35, 'name': 'Comedy'}]   \n",
      "178    [{'id': 28, 'name': 'Action'}, {'id': 12, 'nam...   \n",
      "...                                                  ...   \n",
      "44274  [{'id': 18, 'name': 'Drama'}, {'id': 878, 'nam...   \n",
      "44674                     [{'id': 35, 'name': 'Comedy'}]   \n",
      "44821  [{'id': 12, 'name': 'Adventure'}, {'id': 14, '...   \n",
      "44842  [{'id': 28, 'name': 'Action'}, {'id': 878, 'na...   \n",
      "45029  [{'id': 80, 'name': 'Crime'}, {'id': 35, 'name...   \n",
      "\n",
      "                                                homepage      id    imdb_id  \\\n",
      "9           http://www.mgm.com/view/movie/757/Goldeneye/     710  tt0113189   \n",
      "68         http://www.newline.com/properties/friday.html   10634  tt0113118   \n",
      "69     http://www.miramax.com/movie/from-dusk-till-dawn/     755  tt0116367   \n",
      "153           http://miramax.com/movie/blue-in-the-face/    5894  tt0112541   \n",
      "178                         http://www.powerrangers.com/    9070  tt0113820   \n",
      "...                                                  ...     ...        ...   \n",
      "44274  http://www.foxmovies.com/movies/war-for-the-pl...  281338  tt3450958   \n",
      "44674         https://www.facebook.com/GoonFilm/?fref=ts  336890  tt2417712   \n",
      "44821                  http://movies.warnerbros.com/pk3/   10991  tt0235679   \n",
      "44842                  http://www.transformersmovie.com/  335988  tt3371366   \n",
      "45029                                http://bcbc2.ca/en/  417489  tt4738174   \n",
      "\n",
      "      original_language                           original_title  \\\n",
      "9                    en                                GoldenEye   \n",
      "68                   en                                   Friday   \n",
      "69                   en                      From Dusk Till Dawn   \n",
      "153                  en                         Blue in the Face   \n",
      "178                  en  Mighty Morphin Power Rangers: The Movie   \n",
      "...                 ...                                      ...   \n",
      "44274                en           War for the Planet of the Apes   \n",
      "44674                en              Goon: Last of the Enforcers   \n",
      "44821                ja                     Pokémon 3: The Movie   \n",
      "44842                en            Transformers: The Last Knight   \n",
      "45029                fr                        Bon Cop Bad Cop 2   \n",
      "\n",
      "                                                overview  ... release_date  \\\n",
      "9      James Bond must unmask the mysterious head of ...  ...   1995-11-16   \n",
      "68     Craig and Smokey are two guys in Los Angeles h...  ...   1995-04-26   \n",
      "69     Seth Gecko and his younger brother Richard are...  ...   1996-01-19   \n",
      "153    Auggie runs a small tobacco shop in Brooklyn, ...  ...   1995-09-15   \n",
      "178    Power up with six incredible teens who out-man...  ...   1995-06-30   \n",
      "...                                                  ...  ...          ...   \n",
      "44274  Caesar and his apes are forced into a deadly c...  ...   2017-07-11   \n",
      "44674  During a pro lockout, Doug \"The Thug\" Glatt is...  ...   2017-03-17   \n",
      "44821  When Molly Hale's sadness of her father's disa...  ...   2000-07-08   \n",
      "44842  Autobots and Decepticons are at war, with huma...  ...   2017-06-21   \n",
      "45029  Ward and Bouchard must face an important car t...  ...   2017-05-12   \n",
      "\n",
      "           revenue runtime                                   spoken_languages  \\\n",
      "9      352194034.0   130.0  [{'iso_639_1': 'en', 'name': 'English'}, {'iso...   \n",
      "68      28215918.0    91.0           [{'iso_639_1': 'en', 'name': 'English'}]   \n",
      "69      25836616.0   108.0  [{'iso_639_1': 'en', 'name': 'English'}, {'iso...   \n",
      "153      1275000.0    83.0           [{'iso_639_1': 'en', 'name': 'English'}]   \n",
      "178     66000000.0    92.0           [{'iso_639_1': 'en', 'name': 'English'}]   \n",
      "...            ...     ...                                                ...   \n",
      "44274  369907963.0   140.0           [{'iso_639_1': 'en', 'name': 'English'}]   \n",
      "44674          0.0   101.0           [{'iso_639_1': 'en', 'name': 'English'}]   \n",
      "44821   68411275.0    93.0           [{'iso_639_1': 'en', 'name': 'English'}]   \n",
      "44842  604942143.0   149.0           [{'iso_639_1': 'en', 'name': 'English'}]   \n",
      "45029          0.0     0.0  [{'iso_639_1': 'en', 'name': 'English'}, {'iso...   \n",
      "\n",
      "         status                                            tagline  \\\n",
      "9      Released               No limits. No fears. No substitutes.   \n",
      "68     Released  A lot can go down between thursday and saturda...   \n",
      "69     Released  One night is all that stands between them and ...   \n",
      "153    Released                    Welcome to the planet Brooklyn.   \n",
      "178    Released                                   The Power Is On!   \n",
      "...         ...                                                ...   \n",
      "44274  Released           For freedom. For family. For the planet.   \n",
      "44674  Released                                      Glatt's Back!   \n",
      "44821  Released                      Pokémon: Spell of the Unknown   \n",
      "44842  Released         For one world to live, the other must die.   \n",
      "45029  Released            It's okay America, we've got your back.   \n",
      "\n",
      "                                         title  video vote_average vote_count  \n",
      "9                                    GoldenEye  False          6.6     1194.0  \n",
      "68                                      Friday  False          7.0      513.0  \n",
      "69                         From Dusk Till Dawn  False          6.9     1644.0  \n",
      "153                           Blue in the Face  False          6.8       28.0  \n",
      "178    Mighty Morphin Power Rangers: The Movie  False          5.2      153.0  \n",
      "...                                        ...    ...          ...        ...  \n",
      "44274           War for the Planet of the Apes  False          6.7     1675.0  \n",
      "44674              Goon: Last of the Enforcers  False          6.0       35.0  \n",
      "44821            Pokémon: Spell of the Unknown  False          6.0      144.0  \n",
      "44842            Transformers: The Last Knight  False          6.2     1440.0  \n",
      "45029                        Bon Cop Bad Cop 2  False          6.8        5.0  \n",
      "\n",
      "[693 rows x 24 columns]\n"
     ]
    }
   ],
   "source": [
    "#conversion a listas o diccionarios: \n",
    "def convertir_list_dic(df):\n",
    "    df_converted = df.copy()\n",
    "    \n",
    "    for column in df_converted.columns:\n",
    "        if df_converted[column].dtype == 'object':\n",
    "            try:\n",
    "                df_converted[column] = df_converted[column].apply(ast.literal_eval)\n",
    "            except (ValueError, SyntaxError):\n",
    "                print(f\"Error al convertir la columna '{column}'. Las cadenas no tienen el formato correcto.\")\n",
    "    \n",
    "    return df_converted\n",
    "\n",
    "df = pd.DataFrame(dfMovies)\n",
    "df_converted = convertir_list_dic(dfMovies)\n",
    "\n",
    "print(df_converted)"
   ]
  },
  {
   "cell_type": "code",
   "execution_count": 5,
   "metadata": {},
   "outputs": [
    {
     "name": "stdout",
     "output_type": "stream",
     "text": [
      "\n",
      "Todos los elementos en la columna 'belongs_to_collection' son diccionarios.\n",
      "\n",
      "Todos los elementos en la columna 'genres' son listas.\n",
      "\n",
      "La columna 'homepage' contiene elementos mixtos o no es una lista ni un diccionario.\n",
      "\n",
      "La columna 'imdb_id' contiene elementos mixtos o no es una lista ni un diccionario.\n",
      "\n",
      "La columna 'original_language' contiene elementos mixtos o no es una lista ni un diccionario.\n",
      "\n",
      "La columna 'original_title' contiene elementos mixtos o no es una lista ni un diccionario.\n",
      "\n",
      "La columna 'overview' contiene elementos mixtos o no es una lista ni un diccionario.\n",
      "\n",
      "La columna 'popularity' contiene elementos mixtos o no es una lista ni un diccionario.\n",
      "\n",
      "La columna 'poster_path' contiene elementos mixtos o no es una lista ni un diccionario.\n",
      "\n",
      "Todos los elementos en la columna 'production_companies' son listas.\n",
      "\n",
      "Todos los elementos en la columna 'production_countries' son listas.\n",
      "\n",
      "La columna 'release_date' contiene elementos mixtos o no es una lista ni un diccionario.\n",
      "\n",
      "Todos los elementos en la columna 'spoken_languages' son listas.\n",
      "\n",
      "La columna 'status' contiene elementos mixtos o no es una lista ni un diccionario.\n",
      "\n",
      "La columna 'tagline' contiene elementos mixtos o no es una lista ni un diccionario.\n",
      "\n",
      "La columna 'title' contiene elementos mixtos o no es una lista ni un diccionario.\n",
      "\n",
      "La columna 'video' contiene elementos mixtos o no es una lista ni un diccionario.\n"
     ]
    }
   ],
   "source": [
    "# Se crea un ciclo for para comprobar que tipo de elementos tienen las columnas. \n",
    "for column in df_converted.columns:\n",
    "    if df_converted[column].dtype == 'object':\n",
    "        are_lists = df_converted[column].apply(lambda x: isinstance(x, list)).all()\n",
    "        are_dicts = df_converted[column].apply(lambda x: isinstance(x, dict)).all()\n",
    "        \n",
    "        if are_lists:\n",
    "            print(f\"\\nTodos los elementos en la columna '{column}' son listas.\")\n",
    "        elif are_dicts:\n",
    "            print(f\"\\nTodos los elementos en la columna '{column}' son diccionarios.\")\n",
    "        else:\n",
    "            print(f\"\\nLa columna '{column}' contiene elementos mixtos o no es una lista ni un diccionario.\")\n"
   ]
  },
  {
   "cell_type": "markdown",
   "metadata": {},
   "source": [
    "Desanidacion de datos: Se crea un funcion que revisa cada columna y si esta contiene listas usa .explode() para expandirlas, si la columna contiene diccionarios usa pd.jason_normalize() para descomponer \n",
    "cada diccionario en columnas individuales y las renombra para evitar duplicados, finalmente las columnas desanidadas se agregan al DataFrame y la columna original se elimina."
   ]
  },
  {
   "cell_type": "code",
   "execution_count": 6,
   "metadata": {},
   "outputs": [
    {
     "name": "stdout",
     "output_type": "stream",
     "text": [
      "Index(['adult', 'budget', 'homepage', 'id', 'imdb_id', 'original_language',\n",
      "       'original_title', 'overview', 'popularity', 'poster_path',\n",
      "       'release_date', 'revenue', 'runtime', 'status', 'tagline', 'title',\n",
      "       'video', 'vote_average', 'vote_count', 'belongs_to_collection_id',\n",
      "       'belongs_to_collection_name', 'belongs_to_collection_poster_path',\n",
      "       'belongs_to_collection_backdrop_path', 'genres_id', 'genres_name',\n",
      "       'production_companies_name', 'production_companies_id',\n",
      "       'production_countries_iso_3166_1', 'production_countries_name',\n",
      "       'spoken_languages_iso_639_1', 'spoken_languages_name'],\n",
      "      dtype='object')\n"
     ]
    }
   ],
   "source": [
    "def desanidar_columnas(df):\n",
    "    \n",
    "    for column in df.columns:\n",
    "        if df[column].apply(lambda x: isinstance(x, list)).any():\n",
    "            df = df.explode(column).reset_index(drop=True)\n",
    "        \n",
    "        if df[column].apply(lambda x: isinstance(x, dict)).any():\n",
    "            desanidado_df = pd.json_normalize(df[column])\n",
    "            desanidado_df.columns = [f\"{column}_{subcol}\" for subcol in desanidado_df.columns]\n",
    "            df = pd.concat([df.reset_index(drop=True), desanidado_df], axis=1).drop(columns=[column])\n",
    "    \n",
    "    return df\n",
    "\n",
    "df_desanidado = desanidar_columnas(df_converted)\n",
    "print(df_desanidado.columns)"
   ]
  },
  {
   "cell_type": "code",
   "execution_count": 7,
   "metadata": {},
   "outputs": [
    {
     "name": "stdout",
     "output_type": "stream",
     "text": [
      "\n",
      "Número de filas antes y después de desanidar:\n",
      "Filas originales: 693\n",
      "Filas después de desanidar: 15771\n"
     ]
    }
   ],
   "source": [
    "print(\"\\nNúmero de filas antes y después de desanidar:\")\n",
    "print(f\"Filas originales: {len(df)}\")\n",
    "print(f\"Filas después de desanidar: {len(df_desanidado)}\")\n"
   ]
  },
  {
   "cell_type": "code",
   "execution_count": 8,
   "metadata": {},
   "outputs": [
    {
     "name": "stdout",
     "output_type": "stream",
     "text": [
      "0\n"
     ]
    }
   ],
   "source": [
    "#cambiar valores nulos a cero\n",
    "print(df_desanidado['revenue'].isnull().sum())\n",
    "dfMovies['revenue'] = dfMovies['revenue'].fillna(0)"
   ]
  },
  {
   "cell_type": "code",
   "execution_count": 9,
   "metadata": {},
   "outputs": [
    {
     "name": "stdout",
     "output_type": "stream",
     "text": [
      "0\n"
     ]
    }
   ],
   "source": [
    "#se agrega .astype() para indicar que debe ser float el tipo de dato\n",
    "print(df_desanidado['budget'].isnull().sum())\n",
    "dfMovies['budget'] = dfMovies['budget'].fillna(0)\n",
    "dfMovies['budget'] = dfMovies['budget'].astype(float)"
   ]
  },
  {
   "cell_type": "code",
   "execution_count": 10,
   "metadata": {},
   "outputs": [
    {
     "name": "stdout",
     "output_type": "stream",
     "text": [
      "\n",
      "DataFrame después de eliminar valores nulos en la columna 'release_date':\n",
      "0        1995-11-16\n",
      "1        1995-11-16\n",
      "2        1995-11-16\n",
      "3        1995-11-16\n",
      "4        1995-11-16\n",
      "            ...    \n",
      "15766    2017-05-12\n",
      "15767    2017-05-12\n",
      "15768    2017-05-12\n",
      "15769    2017-05-12\n",
      "15770    2017-05-12\n",
      "Name: release_date, Length: 15771, dtype: object\n"
     ]
    }
   ],
   "source": [
    "#valores nulos de release date deben eliminarse, y se usa reset_index para restablecer el indice del dataframe para evitar mantener los indices anteriores  \n",
    "df_cleaned = df_desanidado.dropna(subset=['release_date']).reset_index(drop=True)\n",
    "print(\"\\nDataFrame después de eliminar valores nulos en la columna 'release_date':\")\n",
    "print(df_cleaned['release_date'])"
   ]
  },
  {
   "cell_type": "markdown",
   "metadata": {},
   "source": [
    "#fechas en formato AAAA-mm-dd y columna release_year "
   ]
  },
  {
   "cell_type": "code",
   "execution_count": 11,
   "metadata": {},
   "outputs": [
    {
     "name": "stdout",
     "output_type": "stream",
     "text": [
      "532     1940-11-13\n",
      "533     1940-11-13\n",
      "534     1940-11-13\n",
      "4070    1942-05-27\n",
      "4072    1942-05-27\n",
      "           ...    \n",
      "15700   2017-07-11\n",
      "15699   2017-07-11\n",
      "15698   2017-07-11\n",
      "15697   2017-07-11\n",
      "15696   2017-07-11\n",
      "Name: release_date, Length: 15771, dtype: datetime64[ns]\n"
     ]
    },
    {
     "name": "stderr",
     "output_type": "stream",
     "text": [
      "C:\\Users\\pc\\AppData\\Local\\Temp\\ipykernel_26916\\3428505200.py:4: UserWarning: Parsing dates in %Y-%m-%d format when dayfirst=True was specified. Pass `dayfirst=False` or specify a format to silence this warning.\n",
      "  df_cleaned['release_date'] = pd.to_datetime(df_cleaned['release_date'], dayfirst=True)\n"
     ]
    }
   ],
   "source": [
    "#para la tranformacion primero se uso el argumento dayFirst=True para priorizar el dia sobre mes en fechas ambiguas,\n",
    "# se ordenan las fechas y posteriormente se les dio el formato AAAA-mm-dd. \n",
    "\n",
    "df_cleaned['release_date'] = pd.to_datetime(df_cleaned['release_date'], dayfirst=True)\n",
    "df_cleaned = df_cleaned.sort_values(by='release_date')\n",
    "df_cleaned['release_date'] = pd.to_datetime(df_cleaned['release_date'], format='%d/%m/%Y')\n",
    "print(df_cleaned['release_date'])"
   ]
  },
  {
   "cell_type": "markdown",
   "metadata": {},
   "source": [
    "#crear columna release_year"
   ]
  },
  {
   "cell_type": "code",
   "execution_count": 12,
   "metadata": {},
   "outputs": [
    {
     "name": "stdout",
     "output_type": "stream",
     "text": [
      "532      1940\n",
      "533      1940\n",
      "534      1940\n",
      "4070     1942\n",
      "4072     1942\n",
      "         ... \n",
      "15700    2017\n",
      "15699    2017\n",
      "15698    2017\n",
      "15697    2017\n",
      "15696    2017\n",
      "Name: release_year, Length: 15771, dtype: int32\n"
     ]
    }
   ],
   "source": [
    "df_cleaned['release_year'] = df_cleaned['release_date'].dt.year\n",
    "print(df_cleaned['release_year'])"
   ]
  },
  {
   "cell_type": "markdown",
   "metadata": {},
   "source": [
    "#crear columna con retorno de inversion: se usa .apply() para aplicar una función lambda a cada fila del DataFrame, la cual calcula el retorno de inversion y se indica que si el valor de budget es 0, asigna 0 al retorno de inversion."
   ]
  },
  {
   "cell_type": "code",
   "execution_count": 13,
   "metadata": {},
   "outputs": [
    {
     "name": "stdout",
     "output_type": "stream",
     "text": [
      "532      36.543860\n",
      "533      36.543860\n",
      "534      36.543860\n",
      "4070      0.000000\n",
      "4072      0.000000\n",
      "           ...    \n",
      "15700     2.433605\n",
      "15699     2.433605\n",
      "15698     2.433605\n",
      "15697     2.433605\n",
      "15696     2.433605\n",
      "Name: return, Length: 15771, dtype: float64\n"
     ]
    }
   ],
   "source": [
    "df_cleaned['return'] = df_cleaned.apply(lambda row: row['revenue'] / row['budget'] if row['budget'] != 0 else 0,axis=1)\n",
    "print(df_cleaned['return'])"
   ]
  },
  {
   "cell_type": "code",
   "execution_count": 14,
   "metadata": {},
   "outputs": [
    {
     "name": "stdout",
     "output_type": "stream",
     "text": [
      "Index(['adult', 'budget', 'homepage', 'id', 'imdb_id', 'original_language',\n",
      "       'original_title', 'overview', 'popularity', 'poster_path',\n",
      "       'release_date', 'revenue', 'runtime', 'status', 'tagline', 'title',\n",
      "       'video', 'vote_average', 'vote_count', 'belongs_to_collection_id',\n",
      "       'belongs_to_collection_name', 'belongs_to_collection_poster_path',\n",
      "       'belongs_to_collection_backdrop_path', 'genres_id', 'genres_name',\n",
      "       'production_companies_name', 'production_companies_id',\n",
      "       'production_countries_iso_3166_1', 'production_countries_name',\n",
      "       'spoken_languages_iso_639_1', 'spoken_languages_name', 'release_year',\n",
      "       'return'],\n",
      "      dtype='object')\n"
     ]
    }
   ],
   "source": [
    "print(df_cleaned.columns)"
   ]
  },
  {
   "cell_type": "code",
   "execution_count": 19,
   "metadata": {},
   "outputs": [
    {
     "name": "stdout",
     "output_type": "stream",
     "text": [
      "Index(['budget', 'id', 'original_language', 'overview', 'popularity',\n",
      "       'release_date', 'revenue', 'runtime', 'status', 'title', 'vote_average',\n",
      "       'vote_count', 'belongs_to_collection_id', 'belongs_to_collection_name',\n",
      "       'belongs_to_collection_poster_path',\n",
      "       'belongs_to_collection_backdrop_path', 'genres_id', 'genres_name',\n",
      "       'production_companies_name', 'production_companies_id',\n",
      "       'production_countries_iso_3166_1', 'production_countries_name',\n",
      "       'spoken_languages_iso_639_1', 'spoken_languages_name', 'release_year',\n",
      "       'return'],\n",
      "      dtype='object')\n"
     ]
    }
   ],
   "source": [
    "\n",
    "columnas_a_eliminar = [ 'adult','video','imdb_id','original_title','poster_path','homepage']\n",
    "df_cleaned = df_cleaned.drop(columns=columnas_a_eliminar)\n",
    "print(df_cleaned.columns)"
   ]
  },
  {
   "cell_type": "code",
   "execution_count": 20,
   "metadata": {},
   "outputs": [
    {
     "name": "stdout",
     "output_type": "stream",
     "text": [
      "532      English\n",
      "533      English\n",
      "534      English\n",
      "4070     English\n",
      "4072     English\n",
      "          ...   \n",
      "15700    English\n",
      "15699    English\n",
      "15698    English\n",
      "15697    English\n",
      "15696    English\n",
      "Name: spoken_languages_name, Length: 15771, dtype: object\n"
     ]
    }
   ],
   "source": [
    "print(df_cleaned['spoken_languages_name'])"
   ]
  },
  {
   "cell_type": "code",
   "execution_count": 21,
   "metadata": {},
   "outputs": [
    {
     "name": "stdout",
     "output_type": "stream",
     "text": [
      "Numero de filas: 15771\n"
     ]
    }
   ],
   "source": [
    "print(f\"Numero de filas: {len(df_cleaned)}\")"
   ]
  },
  {
   "cell_type": "code",
   "execution_count": 22,
   "metadata": {},
   "outputs": [
    {
     "name": "stdout",
     "output_type": "stream",
     "text": [
      "532     1940-11-13\n",
      "533     1940-11-13\n",
      "534     1940-11-13\n",
      "4070    1942-05-27\n",
      "4072    1942-05-27\n",
      "           ...    \n",
      "15700   2017-07-11\n",
      "15699   2017-07-11\n",
      "15698   2017-07-11\n",
      "15697   2017-07-11\n",
      "15696   2017-07-11\n",
      "Name: release_date, Length: 15771, dtype: datetime64[ns]\n"
     ]
    }
   ],
   "source": [
    "print(df_cleaned['release_date'])"
   ]
  },
  {
   "cell_type": "code",
   "execution_count": 30,
   "metadata": {},
   "outputs": [
    {
     "name": "stdout",
     "output_type": "stream",
     "text": [
      "532        8.037960\n",
      "533        8.037960\n",
      "534        8.037960\n",
      "4070       0.476623\n",
      "4072       0.476623\n",
      "            ...    \n",
      "15700    146.161786\n",
      "15699    146.161786\n",
      "15698    146.161786\n",
      "15697    146.161786\n",
      "15696    146.161786\n",
      "Name: popularity, Length: 15771, dtype: float64\n"
     ]
    }
   ],
   "source": [
    "#Debido a que la columna \"popularity\" contiene valores que pandas intenta convertir a tipo numerico al querer transformar a formato parquet, \n",
    "#pero algunos valores estan en formato string se realiza la conversion previa para que no me arroje error al momento de la conversion. \n",
    "df_cleaned['popularity'] = pd.to_numeric(df_cleaned['popularity'], errors='coerce')\n",
    "print(df_cleaned['popularity'])"
   ]
  },
  {
   "cell_type": "markdown",
   "metadata": {},
   "source": [
    "Para las funciones solicitadas se crea un DF con los campos: 'title','release_date','release_year','popularity','spoken_languages_name','vote_count','vote_average'. A los cuales se les realizan modificacones que buscan mejorar el rendimiento y eficiencia en memoria y ajustarse a las distintas especificaciones que se solicitaban. "
   ]
  },
  {
   "cell_type": "code",
   "execution_count": 32,
   "metadata": {},
   "outputs": [
    {
     "name": "stdout",
     "output_type": "stream",
     "text": [
      "                     title release_date  release_year  popularity  \\\n",
      "0  The Empire Strikes Back   1980-05-17          1980   19.470959   \n",
      "1  The Empire Strikes Back   1980-05-17          1980   19.470959   \n",
      "2  The Empire Strikes Back   1980-05-17          1980   19.470959   \n",
      "3  The Empire Strikes Back   1980-05-17          1980   19.470959   \n",
      "4  The Empire Strikes Back   1980-05-17          1980   19.470959   \n",
      "\n",
      "  spoken_languages_name  vote_count  vote_average  \n",
      "0               English      5998.0           8.2  \n",
      "1               English      5998.0           8.2  \n",
      "2               English      5998.0           8.2  \n",
      "3               English      5998.0           8.2  \n",
      "4               English      5998.0           8.2  \n",
      "Numero de filas: 5161\n"
     ]
    }
   ],
   "source": [
    "df_funciones = df_cleaned[['title','release_date','release_year','popularity','spoken_languages_name','vote_count','vote_average']].copy() #copia del df original \n",
    "df_funciones = df_funciones[\n",
    "    (df_funciones['release_date'].dt.year >= 1980) & #Se filtran a peliculas de los ochentas a la actualidad para optimizar espacio en memoria y traer titulos mas actuales. \n",
    "    (df_funciones['release_year'] >= 1980) &         #Se busca lo mismo que en la linea pasada. \n",
    "    (df_funciones['spoken_languages_name'] == 'English') & #Limite el df a solo peliculas donde el idioma sea en ingles. \n",
    "    (df_funciones['vote_count'] >= 1000)                   #Tambien se eliminaron aquellas peliculas cuyos votos estaba por debajo de 2000 ya que de igual la funcion \"votos_titulo\" no las tomara en cuenta. \n",
    "].reset_index(drop=True)\n",
    "\n",
    "print(df_funciones.head())\n",
    "print(f\"Numero de filas: {len(df_funciones)}\")"
   ]
  },
  {
   "cell_type": "code",
   "execution_count": 38,
   "metadata": {},
   "outputs": [
    {
     "name": "stdout",
     "output_type": "stream",
     "text": [
      "                     title release_date  release_year  popularity  \\\n",
      "0  The Empire Strikes Back   1980-05-17          1980   19.470959   \n",
      "1  The Empire Strikes Back   1980-05-17          1980   19.470959   \n",
      "2  The Empire Strikes Back   1980-05-17          1980   19.470959   \n",
      "3  The Empire Strikes Back   1980-05-17          1980   19.470959   \n",
      "4  The Empire Strikes Back   1980-05-17          1980   19.470959   \n",
      "\n",
      "  spoken_languages_name  vote_count  vote_average  \n",
      "0               English      5998.0           8.2  \n",
      "1               English      5998.0           8.2  \n",
      "2               English      5998.0           8.2  \n",
      "3               English      5998.0           8.2  \n",
      "4               English      5998.0           8.2  \n"
     ]
    }
   ],
   "source": [
    "#Se convierte a archivo.parquet para optimizacion de espacio y velocidad.  \n",
    "df_funciones.to_parquet(\"df_funciones.parquet\", engine='pyarrow', index=False)\n",
    "df_verificado = pd.read_parquet(\"df_funciones.parquet\")\n",
    "print(df_verificado.head())"
   ]
  },
  {
   "cell_type": "markdown",
   "metadata": {},
   "source": [
    "Se crea una funcion donde se ingresa un mes en idioma Español y devuelve la cantidad de películas que fueron estrenadas en el mes.\n",
    "consultado en el Dataset \"df_funciones\"."
   ]
  },
  {
   "cell_type": "code",
   "execution_count": 34,
   "metadata": {},
   "outputs": [
    {
     "name": "stdout",
     "output_type": "stream",
     "text": [
      "507 películas fueron estrenadas en el mes de Febrero.\n"
     ]
    }
   ],
   "source": [
    "# primero se crea un diccionario para traducir los meses en español a su número correspondiente, luego se convierte el mes ingresado en español a minúsculas y se obtiene su número.\n",
    "# Finalmente se filtran las películas que fueron estrenadas en el mes consultado.\n",
    "\n",
    "def cantidad_filmaciones_mes(mes):\n",
    "    \"\"\n",
    "    meses = {\n",
    "        'enero': 1, 'febrero': 2, 'marzo': 3, 'abril': 4, 'mayo': 5, 'junio': 6,\n",
    "        'julio': 7, 'agosto': 8, 'septiembre': 9, 'octubre': 10, 'noviembre': 11, 'diciembre': 12\n",
    "    }\n",
    "    \n",
    "    mes = mes.lower()\n",
    "    mes_numero = meses.get(mes)\n",
    "    \n",
    "    if mes_numero is None:\n",
    "        return \"El mes ingresado no es válido. Por favor, ingrese un mes en español.\"\n",
    "    cantidad = df_funciones[df_funciones['release_date'].dt.month == mes_numero].shape[0]\n",
    "    \n",
    "    return f\"{cantidad} películas fueron estrenadas en el mes de {mes.capitalize()}.\"\n",
    "\n",
    "\n",
    "print(cantidad_filmaciones_mes(\"febrero\"))"
   ]
  },
  {
   "cell_type": "markdown",
   "metadata": {},
   "source": [
    "Se crea una funcion donde se ingresa un día en idioma Español el cual devuelve la cantidad de películas que fueron estrenadas en día.\n",
    "consultado en el Dataset \"df_funciones\"."
   ]
  },
  {
   "cell_type": "code",
   "execution_count": 35,
   "metadata": {},
   "outputs": [
    {
     "name": "stdout",
     "output_type": "stream",
     "text": [
      "201 películas fueron estrenadas en los días Sábado.\n"
     ]
    }
   ],
   "source": [
    "#Se crea un diccionario para traducir los días de la semana en español a su número correspondiente (lunes=0, domingo=6).\n",
    "#Se busca convertir el día ingresado en español a minúsculas y obtener su número correspondiente.\n",
    "#Por ultimo se filtran las películas que fueron estrenadas en el día consultado.\n",
    "def cantidad_filmaciones_dia(dia):\n",
    "    \n",
    "    dias_semana = {\n",
    "        'lunes': 0, 'martes': 1, 'miércoles': 2, 'jueves': 3, \n",
    "        'viernes': 4, 'sábado': 5, 'domingo': 6\n",
    "    }\n",
    "    dia = dia.lower()\n",
    "    dia_numero = dias_semana.get(dia)\n",
    "    \n",
    "    if dia_numero is None:\n",
    "        return \"El día ingresado no es válido. Por favor, ingrese un día de la semana en español.\"\n",
    "    cantidad = df_funciones[df_funciones['release_date'].dt.dayofweek == dia_numero].shape[0]\n",
    "    return f\"{cantidad} películas fueron estrenadas en los días {dia.capitalize()}.\"\n",
    "\n",
    "\n",
    "print(cantidad_filmaciones_dia(\"sábado\"))"
   ]
  },
  {
   "cell_type": "markdown",
   "metadata": {},
   "source": [
    "La funcion \"score_titulo\" busca que al ingresar el título de una filmación arroje como respuesta el título, el año de estreno y el score.\n",
    "En esta funcion se modifico el df para la columna \"titulo\" donde remplace los espacios por \"_\", para que al momento de realizar la busqueda en el \n",
    "servidor lo pueda detectar y no de error. "
   ]
  },
  {
   "cell_type": "code",
   "execution_count": 51,
   "metadata": {},
   "outputs": [
    {
     "name": "stdout",
     "output_type": "stream",
     "text": [
      "La película 'The Empire Strikes Back' fue estrenada en el año 1980 con un score/popularidad de 19.470959.\n"
     ]
    }
   ],
   "source": [
    "#Se filtra el df para encontrar la filmación con el título ingresado, posteriormente se comprueba si se encontró la película.\n",
    "#Despues se obtiene la informacion necesaria de los campos 'title','release_year','popularity' para dar el resultado solicitado. \n",
    "def score_titulo(titulo_de_la_filmacion: str):\n",
    "   \n",
    "    titulo_formateado = titulo_de_la_filmacion.lower().replace(\"_\", \" \")\n",
    "    pelicula = df_funciones[df_funciones['title'].str.lower() == titulo_formateado]\n",
    "    \n",
    "    if pelicula.empty:\n",
    "        return \"No se encontró una película con ese título.\"\n",
    "    \n",
    "    \n",
    "    titulo = pelicula['title'].values[0]\n",
    "    año = pelicula['release_year'].values[0]\n",
    "    score = pelicula['popularity'].values[0]  \n",
    "\n",
    "    return f\"La película '{titulo}' fue estrenada en el año {año} con un score/popularidad de {score}.\"\n",
    "\n",
    "print(score_titulo(\"The Empire Strikes Back\"))"
   ]
  },
  {
   "cell_type": "markdown",
   "metadata": {},
   "source": [
    "En la siguiente funcion se ingresa el título de una filmación esperando como respuesta el título, la cantidad de votos y el valor promedio de las votaciones. \n",
    "Como esta variable debe contar con al menos 2000 valoraciones para cumplir con los requerimientos, el df se ajusto a que tomara peliculas con votaciones \n",
    "por encima de 1000 valoraciones para mostrar el mensaje avisando que no cumple esta condición y que por ende, no se devuelve ningun valor."
   ]
  },
  {
   "cell_type": "code",
   "execution_count": 57,
   "metadata": {},
   "outputs": [
    {
     "name": "stdout",
     "output_type": "stream",
     "text": [
      "La película 'Alien: Covenant' se estrenó en el año 2017, cuenta con un total de 2677.0 valoraciones, con un promedio de 5.7.\n"
     ]
    }
   ],
   "source": [
    "#Se filtra el Df reemplazando espacios con guiones bajos en el título ingresado para poder buscarla dese el servidor\n",
    "#despues se verifica si la pelicula fue encontrada. En caso de que si, se obtiene el título, año en que se estreno, \n",
    "#cantidad de votos y promedio de votos para posteriormente verificar si cumple con al menos 2000 valoraciones.\n",
    "#en ambos casos arroja un mensaje si cumplio o no con la peticion. \n",
    "\n",
    "def votos_titulo(titulo_de_la_filmacion):\n",
    "    \n",
    "    titulo_formateado = titulo_de_la_filmacion.replace(\"_\", \" \").lower()\n",
    "    pelicula = df_funciones[df_funciones['title'].str.lower() == titulo_formateado]\n",
    "    if pelicula.empty:\n",
    "        return \"No se encontró una película con ese título.\"\n",
    "\n",
    "    titulo = pelicula['title'].values[0]\n",
    "    año = pelicula['release_year'].values[0]\n",
    "    votos = pelicula['vote_count'].values[0]\n",
    "    promedio_votos = pelicula['vote_average'].values[0]\n",
    "    \n",
    "    if votos < 2000:\n",
    "        return f\"La película '{titulo}' no cumple con el mínimo de 2000 valoraciones (actual: {votos}).\"\n",
    "    \n",
    "    return f\"La película '{titulo}' se estrenó en el año {año}, cuenta con un total de {votos} valoraciones, con un promedio de {promedio_votos}.\"\n",
    "\n",
    "print(votos_titulo(\"Alien:_Covenant\"))\n"
   ]
  },
  {
   "cell_type": "code",
   "execution_count": null,
   "metadata": {},
   "outputs": [],
   "source": []
  },
  {
   "cell_type": "code",
   "execution_count": null,
   "metadata": {},
   "outputs": [],
   "source": [
    "\n"
   ]
  },
  {
   "cell_type": "code",
   "execution_count": null,
   "metadata": {},
   "outputs": [],
   "source": [
    "#transformar a archivo.parquet\n",
    "#dfMovies.to_parquet(r'C:\\Users\\pc\\Downloads\\movies_dataset.parquet', engine = 'pyarrow')\n",
    "dfMovies_parquet = pd.read_parquet(r'C:\\Users\\pc\\Downloads\\movies_dataset.parquet')\n",
    "#corroborar la transformacion \n",
    "print(dfMovies_parquet.head())\n",
    "print(\"Número de Registros CSV Original:\", dfMovies.shape[0])\n",
    "print(\"Número de Registros Parquet Transformado:\", dfMovies_parquet.shape[0])"
   ]
  }
 ],
 "metadata": {
  "kernelspec": {
   "display_name": "entorno_venv",
   "language": "python",
   "name": "python3"
  },
  "language_info": {
   "codemirror_mode": {
    "name": "ipython",
    "version": 3
   },
   "file_extension": ".py",
   "mimetype": "text/x-python",
   "name": "python",
   "nbconvert_exporter": "python",
   "pygments_lexer": "ipython3",
   "version": "3.12.6"
  }
 },
 "nbformat": 4,
 "nbformat_minor": 2
}
